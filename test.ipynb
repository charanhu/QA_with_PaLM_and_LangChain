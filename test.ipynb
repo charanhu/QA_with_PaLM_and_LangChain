{
 "cells": [
  {
   "cell_type": "code",
   "execution_count": 9,
   "metadata": {},
   "outputs": [],
   "source": [
    "def BinarySearch(arr: list[int], x):\n",
    "    low = 0\n",
    "    high = len(arr) -1\n",
    "\n",
    "    while (low <=high ):\n",
    "        mid= int((low+high)/2);\n",
    "\n",
    "        if arr[mid] ==x :\n",
    "            return f'Element found at {mid}th Index';\n",
    "        \n",
    "        elif arr[mid]>x: \n",
    "            #search left side\n",
    "            high = mid-1;\n",
    "            \n",
    "        else:\n",
    "             #search right side \n",
    "             low = mid +1 ;\n",
    "    \n",
    "    return 'Not Found!'"
   ]
  },
  {
   "cell_type": "code",
   "execution_count": 12,
   "metadata": {},
   "outputs": [
    {
     "data": {
      "text/plain": [
       "'Not Found!'"
      ]
     },
     "execution_count": 12,
     "metadata": {},
     "output_type": "execute_result"
    }
   ],
   "source": [
    "BinarySearch([1,2,3,4,5,6,7,8,9,10], 100)"
   ]
  },
  {
   "cell_type": "code",
   "execution_count": 13,
   "metadata": {},
   "outputs": [],
   "source": [
    "# Recursive function for Binary Search \n",
    "def recursiveBinarySearch(list, item): \n",
    "    # Base Cases: The first and last elements in the array are checked  \n",
    "    if len(list) == 0: \n",
    "        return False\n",
    "    elif len(list) ==1 :\n",
    "        if (item==list[0]):\n",
    "            return True\n",
    "        \n",
    "        else: \n",
    "            return False\n",
    "            \n",
    "    mid = int((len(list)-1)/2)\n",
    "    \n",
    "    # If element is present at the middle itself \n",
    "    if list[mid] == item:  \n",
    "        return True\n",
    "        \n",
    "    # If element is smaller than mid value then it can only be present on left subarray   \n",
    "    elif list[mid]<item:        \n",
    "        return recursiveBinarySearch(list[(mid+1):], item ) \n",
    "        \n",
    "\n",
    "    # Else the element can only be present on right side so we recursively call this function with modified condition.      \n",
    "    else:         \n",
    "        return recursiveBinarySearch(list[:int(mid)], item)"
   ]
  },
  {
   "cell_type": "code",
   "execution_count": 15,
   "metadata": {},
   "outputs": [
    {
     "data": {
      "text/plain": [
       "True"
      ]
     },
     "execution_count": 15,
     "metadata": {},
     "output_type": "execute_result"
    }
   ],
   "source": [
    "recursiveBinarySearch([1,2,3,4,5,6,7,8,9,10], 5)"
   ]
  },
  {
   "cell_type": "code",
   "execution_count": null,
   "metadata": {},
   "outputs": [],
   "source": []
  }
 ],
 "metadata": {
  "kernelspec": {
   "display_name": "venv",
   "language": "python",
   "name": "python3"
  },
  "language_info": {
   "codemirror_mode": {
    "name": "ipython",
    "version": 3
   },
   "file_extension": ".py",
   "mimetype": "text/x-python",
   "name": "python",
   "nbconvert_exporter": "python",
   "pygments_lexer": "ipython3",
   "version": "3.11.4"
  },
  "orig_nbformat": 4
 },
 "nbformat": 4,
 "nbformat_minor": 2
}
