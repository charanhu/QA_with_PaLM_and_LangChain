{
 "cells": [
  {
   "cell_type": "markdown",
   "metadata": {},
   "source": [
    "# Story Writer with Google PaLM and LangChain"
   ]
  },
  {
   "cell_type": "code",
   "execution_count": 6,
   "metadata": {},
   "outputs": [],
   "source": [
    "import os \n",
    "from dotenv import load_dotenv, find_dotenv\n",
    "\n",
    "from langchain.embeddings import GooglePalmEmbeddings\n",
    "from langchain.llms import GooglePalm\n",
    "\n",
    "from langchain import PromptTemplate, LLMChain"
   ]
  },
  {
   "cell_type": "code",
   "execution_count": 7,
   "metadata": {},
   "outputs": [],
   "source": [
    "import os \n",
    "from dotenv import load_dotenv, find_dotenv\n",
    "\n",
    "load_dotenv(find_dotenv()) # read local .env file\n",
    "\n",
    "# configure palm\n",
    "api_key = os.environ.get(\"PALM_API_KEY\")"
   ]
  },
  {
   "cell_type": "code",
   "execution_count": 8,
   "metadata": {},
   "outputs": [],
   "source": [
    "llm = GooglePalm(google_api_key=api_key,temperature=0)"
   ]
  },
  {
   "cell_type": "code",
   "execution_count": 9,
   "metadata": {},
   "outputs": [],
   "source": [
    "story_template = \"\"\"You are a playwright. Given the title of play, it is your job to write a story for that title.\n",
    "\n",
    "Title: {title}\n",
    "Playwright: This is a story for the above play:\"\"\"\n",
    "\n",
    "story_prompt_template = PromptTemplate(input_variables=[\"title\"], template=story_template)\n",
    "\n",
    "story_chain = LLMChain(llm=llm, prompt=story_prompt_template)"
   ]
  },
  {
   "cell_type": "code",
   "execution_count": 11,
   "metadata": {},
   "outputs": [
    {
     "name": "stdout",
     "output_type": "stream",
     "text": [
      "The King of the Jungle fight with Elephant\n",
      "\n",
      "The lion, the king of the jungle, was walking through the forest when he saw an elephant. The elephant was huge and powerful, and the lion knew that he would be in for a fight if he challenged it.\n",
      "\n",
      "But the lion was also proud, and he wasn't about to let an elephant tell him what to do. He roared a challenge, and the elephant charged.\n",
      "\n",
      "The two animals met in a head-on collision, and the ground shook with the force of their impact. The lion and the elephant fought for hours, neither one able to gain an advantage.\n",
      "\n",
      "Finally, the lion saw an opening and struck a fatal blow to the elephant's head. The elephant fell to the ground, dead.\n",
      "\n",
      "The lion had won the fight, but he was also badly injured. He knew that he would need to rest and heal before he could challenge another animal.\n",
      "\n",
      "The lion lay down in the shade of a tree and closed his eyes. He was tired, but he was also satisfied. He had proven that he was the king of the jungle.\n",
      "\n",
      "The next day, the lion woke up feeling refreshed. He knew that he had to find food, so he set off into the forest. He didn't have to go far before he found a herd of zebras.\n",
      "\n",
      "The lion charged at the zebras, and they scattered in all directions. The lion chased after one of the zebras and caught it. He killed the zebra and ate it.\n",
      "\n",
      "After he had eaten, the lion lay down in the shade and rested. He was content. He had food, and he was the king of the jungle.\n"
     ]
    }
   ],
   "source": [
    "print(story_chain.run(\"The King of the Jungle fight with Elephant\"))"
   ]
  },
  {
   "cell_type": "code",
   "execution_count": null,
   "metadata": {},
   "outputs": [],
   "source": []
  }
 ],
 "metadata": {
  "kernelspec": {
   "display_name": "venv",
   "language": "python",
   "name": "python3"
  },
  "language_info": {
   "codemirror_mode": {
    "name": "ipython",
    "version": 3
   },
   "file_extension": ".py",
   "mimetype": "text/x-python",
   "name": "python",
   "nbconvert_exporter": "python",
   "pygments_lexer": "ipython3",
   "version": "3.11.4"
  },
  "orig_nbformat": 4
 },
 "nbformat": 4,
 "nbformat_minor": 2
}
